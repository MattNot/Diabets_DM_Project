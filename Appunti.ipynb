{
 "cells": [
  {
   "cell_type": "code",
   "execution_count": 2,
   "metadata": {
    "collapsed": true,
    "pycharm": {
     "is_executing": false
    }
   },
   "outputs": [
    {
     "data": {
      "text/plain": [
       "2"
      ]
     },
     "execution_count": 2,
     "metadata": {},
     "output_type": "execute_result"
    }
   ],
   "source": []
  },
  {
   "cell_type": "markdown",
   "metadata": {},
   "source": [
    "Dal paper https://www.hindawi.com/journals/bmri/2014/781670/\n",
    "risultiamo avere 101,766 encounters, anche loro hanno definito >30 days come non utile all'analisi\n",
    "\n",
    "weight (97% values missing), payer code (40%), and medical specialty (47%). Weight attribute was considered to be too sparse and it was not included in further analysis. Payer code was removed since it had a high percentage of missing values and it was not considered relevant to the outcome. Medical specialty attribute was maintained, adding the value “missing” in order to account for missing values.\n",
    "\n",
    "\n",
    "Loro hanno preferito considerare un solo incontro per paziente prendendo per buono il primo. Così facendo si riducono i dati a 70k circa\n",
    "\n",
    "\n",
    "\n"
   ]
  },
  {
   "cell_type": "markdown",
   "source": [
    "# Domande da fare alla prof.ssa\n",
    "Tutta questa analisi si basa sul fatto che ci fidiamo del ? come valore NaN\n",
    "\n",
    "Cosa significa number_diagnosis in relazione a diag_1-2-3\n",
    "\n",
    "Non abbiamo capito cosa significa l'hist che esce fuori da patient_number e encounter_id\n",
    "\n",
    "Non abbiamo capito cosa significa number_outpatient, number_emergency, number_inpatient\n",
    "\n",
    "# Appunti per dopo\n",
    "\n",
    "Per le diagnosi fare un pie chart con le prime 5 più numerose e \"altro\" per tutte le altre\n",
    "\n",
    "Admission_type_id ha dei valori NULL non segnalati poiché l'id 6 è equivalente a NULL\n",
    "\n",
    "Dischar blabla ha dei volori NULL non segnalati\n",
    "\n",
    "Adminssion_source_id ha dei valori null non segnalati\n",
    "\n",
    "Da approfondire le medicine\n",
    "# Appunti veri e propri\n",
    "\n",
    "Abbiamo notato che ci sono delle colonne con molti valori null, weight su tutti (96%) [scartiamo la colonna], payer code\n",
    "(40%) e medical specialty (49.1%).\n",
    "\n",
    "Ulteriori analisi:\n",
    "\n",
    "Race ha un missing value del ~2% quindi potremmo scartare i singoli record ma è da valutare la correlazione con la class label\n",
    "\n",
    "Diag_2,3 hanno dei valori null ma è da capire in relazione a diag_1 e num_diagnosis.\n",
    "\n",
    "Possiamo eliminare i record con Gender diverso da Female e Male dato che sono solo 3 e di gente che ha 90 anni.\n"
   ],
   "metadata": {
    "collapsed": false
   }
  }
 ],
 "metadata": {
  "kernelspec": {
   "display_name": "Python 3",
   "language": "python",
   "name": "python3"
  },
  "language_info": {
   "codemirror_mode": {
    "name": "ipython",
    "version": 3
   },
   "file_extension": ".py",
   "mimetype": "text/x-python",
   "name": "python",
   "nbconvert_exporter": "python",
   "pygments_lexer": "ipython3",
   "version": "3.8.2"
  },
  "pycharm": {
   "stem_cell": {
    "cell_type": "raw",
    "source": [],
    "metadata": {
     "collapsed": false
    }
   }
  }
 },
 "nbformat": 4,
 "nbformat_minor": 1
}